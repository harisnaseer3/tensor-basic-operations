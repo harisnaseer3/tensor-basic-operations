{
  "nbformat": 4,
  "nbformat_minor": 0,
  "metadata": {
    "kernelspec": {
      "display_name": "Python 3",
      "language": "python",
      "name": "python3"
    },
    "language_info": {
      "codemirror_mode": {
        "name": "ipython",
        "version": 3
      },
      "file_extension": ".py",
      "mimetype": "text/x-python",
      "name": "python",
      "nbconvert_exporter": "python",
      "pygments_lexer": "ipython3",
      "version": "3.8.5"
    },
    "colab": {
      "name": "01-tensor-operations.ipynb",
      "provenance": [],
      "collapsed_sections": []
    }
  },
  "cells": [
    {
      "cell_type": "code",
      "metadata": {
        "colab": {
          "base_uri": "https://localhost:8080/"
        },
        "id": "WPP_f-onBSt2",
        "outputId": "ed311508-2ae1-48ab-f354-266e902f6e88"
      },
      "source": [
        "# Jovian Commit Essentials\n",
        "# Please retain and execute this cell without modifying the contents for `jovian.commit` to work\n",
        "!pip install jovian --upgrade -q\n",
        "import jovian\n",
        "jovian.set_project('01-tensor-operations')\n",
        "jovian.set_colab_id('1TS5fmJ2CJG6whuONWLTREnJb52_PYAZ3')"
      ],
      "execution_count": 2,
      "outputs": [
        {
          "output_type": "stream",
          "name": "stdout",
          "text": [
            "\u001b[?25l\r\u001b[K     |████▊                           | 10 kB 24.4 MB/s eta 0:00:01\r\u001b[K     |█████████▌                      | 20 kB 30.2 MB/s eta 0:00:01\r\u001b[K     |██████████████▎                 | 30 kB 29.9 MB/s eta 0:00:01\r\u001b[K     |███████████████████             | 40 kB 20.1 MB/s eta 0:00:01\r\u001b[K     |███████████████████████▉        | 51 kB 9.5 MB/s eta 0:00:01\r\u001b[K     |████████████████████████████▋   | 61 kB 10.2 MB/s eta 0:00:01\r\u001b[K     |████████████████████████████████| 68 kB 4.0 MB/s \n",
            "\u001b[?25h  Building wheel for uuid (setup.py) ... \u001b[?25l\u001b[?25hdone\n"
          ]
        }
      ]
    },
    {
      "cell_type": "markdown",
      "metadata": {
        "id": "CfhMOegmBSuC"
      },
      "source": [
        "# Pytorch Tensor basic function\n",
        "\n",
        "An short introduction about PyTorch and about the chosen functions. \n",
        "\n",
        "- Create tensor\n",
        "- convert numpy to tensor\n",
        "- calculate gradient\n",
        "- make all element of matrix to zeros and ones\n",
        "- Repeats tensor along the specified dimensions.\n",
        "\n",
        "Before we begin, let's install and import PyTorch"
      ]
    },
    {
      "cell_type": "code",
      "metadata": {
        "id": "jMb-UU0hBSuF"
      },
      "source": [
        "# Import torch and other required modules\n",
        "import torch"
      ],
      "execution_count": 4,
      "outputs": []
    },
    {
      "cell_type": "markdown",
      "metadata": {
        "id": "x_UD-saSBSuG"
      },
      "source": [
        "## Function 1 - torch.tensor (change this)\n",
        "\n",
        "Add some explanations"
      ]
    },
    {
      "cell_type": "code",
      "metadata": {
        "id": "FpNHEIozBSuI",
        "colab": {
          "base_uri": "https://localhost:8080/"
        },
        "outputId": "24a91a3a-5c67-4b86-8d16-bf607a96fa26"
      },
      "source": [
        "# Example 1 - working (change this)\n",
        "torch.tensor([[1, 2], [3, 4.]])"
      ],
      "execution_count": 5,
      "outputs": [
        {
          "output_type": "execute_result",
          "data": {
            "text/plain": [
              "tensor([[1., 2.],\n",
              "        [3., 4.]])"
            ]
          },
          "metadata": {},
          "execution_count": 5
        }
      ]
    },
    {
      "cell_type": "markdown",
      "metadata": {
        "id": "Ad3suFO4BSuL"
      },
      "source": [
        "this function make 2x2 matrix of tensor."
      ]
    },
    {
      "cell_type": "code",
      "metadata": {
        "colab": {
          "base_uri": "https://localhost:8080/"
        },
        "id": "Ag-s0PQaBSuM",
        "outputId": "9545c57d-6bc8-44d3-b218-73361d13d83d"
      },
      "source": [
        "# Example 2 - working\n",
        "torch.tensor([[3,5,9],\n",
        "              [3,9,1],\n",
        "              [45,8,2]])"
      ],
      "execution_count": 6,
      "outputs": [
        {
          "output_type": "execute_result",
          "data": {
            "text/plain": [
              "tensor([[ 3,  5,  9],\n",
              "        [ 3,  9,  1],\n",
              "        [45,  8,  2]])"
            ]
          },
          "metadata": {},
          "execution_count": 6
        }
      ]
    },
    {
      "cell_type": "markdown",
      "metadata": {
        "id": "h_zrwAkRBSuN"
      },
      "source": [
        "created 3x3 matrix of tensor"
      ]
    },
    {
      "cell_type": "code",
      "metadata": {
        "colab": {
          "base_uri": "https://localhost:8080/",
          "height": 183
        },
        "id": "JgM5_jW9BSuO",
        "outputId": "d70d5100-46f4-44a1-972e-b073ec96bd32"
      },
      "source": [
        "# Example 3 - breaking (to illustrate when it breaks)\n",
        "torch.tensor([[1, 2], [3, 4, 5]])"
      ],
      "execution_count": 7,
      "outputs": [
        {
          "output_type": "error",
          "ename": "ValueError",
          "evalue": "ignored",
          "traceback": [
            "\u001b[0;31m---------------------------------------------------------------------------\u001b[0m",
            "\u001b[0;31mValueError\u001b[0m                                Traceback (most recent call last)",
            "\u001b[0;32m<ipython-input-7-28787d136593>\u001b[0m in \u001b[0;36m<module>\u001b[0;34m()\u001b[0m\n\u001b[1;32m      1\u001b[0m \u001b[0;31m# Example 3 - breaking (to illustrate when it breaks)\u001b[0m\u001b[0;34m\u001b[0m\u001b[0;34m\u001b[0m\u001b[0;34m\u001b[0m\u001b[0m\n\u001b[0;32m----> 2\u001b[0;31m \u001b[0mtorch\u001b[0m\u001b[0;34m.\u001b[0m\u001b[0mtensor\u001b[0m\u001b[0;34m(\u001b[0m\u001b[0;34m[\u001b[0m\u001b[0;34m[\u001b[0m\u001b[0;36m1\u001b[0m\u001b[0;34m,\u001b[0m \u001b[0;36m2\u001b[0m\u001b[0;34m]\u001b[0m\u001b[0;34m,\u001b[0m \u001b[0;34m[\u001b[0m\u001b[0;36m3\u001b[0m\u001b[0;34m,\u001b[0m \u001b[0;36m4\u001b[0m\u001b[0;34m,\u001b[0m \u001b[0;36m5\u001b[0m\u001b[0;34m]\u001b[0m\u001b[0;34m]\u001b[0m\u001b[0;34m)\u001b[0m\u001b[0;34m\u001b[0m\u001b[0;34m\u001b[0m\u001b[0m\n\u001b[0m",
            "\u001b[0;31mValueError\u001b[0m: expected sequence of length 2 at dim 1 (got 3)"
          ]
        }
      ]
    },
    {
      "cell_type": "markdown",
      "metadata": {
        "id": "w_yaBEiSBSuT"
      },
      "source": [
        "## Function 2. convert numpy to tensor\n",
        "\n",
        "Add some explanations"
      ]
    },
    {
      "cell_type": "code",
      "metadata": {
        "id": "oMtP562gBSuU",
        "colab": {
          "base_uri": "https://localhost:8080/"
        },
        "outputId": "24acf88f-d785-4374-8d29-3082e1ed8bb3"
      },
      "source": [
        "import numpy as np\n",
        "import torch\n",
        "\n",
        "\n",
        "x = np.array([[3,5],\n",
        "              [3,7]], dtype = 'float32')\n",
        "x = torch.from_numpy(x)\n",
        "print(x)"
      ],
      "execution_count": 13,
      "outputs": [
        {
          "output_type": "stream",
          "name": "stdout",
          "text": [
            "tensor([[3., 5.],\n",
            "        [3., 7.]])\n"
          ]
        }
      ]
    },
    {
      "cell_type": "markdown",
      "metadata": {
        "id": "wvJGKj6tBSuU"
      },
      "source": [
        "in above example i have import numpy and torch then converted 2d numpy array into tensor"
      ]
    },
    {
      "cell_type": "code",
      "metadata": {
        "id": "yGusVOb5BSuV",
        "colab": {
          "base_uri": "https://localhost:8080/"
        },
        "outputId": "393bdb44-7bc0-4160-c0fa-0cc8be5f3d31"
      },
      "source": [
        "x = np.array([[4,6,2],\n",
        "              [6,1,8],\n",
        "              [3,56,2]], dtype = 'float64')\n",
        "y = torch.from_numpy(x)\n",
        "print(y)\n"
      ],
      "execution_count": 14,
      "outputs": [
        {
          "output_type": "stream",
          "name": "stdout",
          "text": [
            "tensor([[ 4.,  6.,  2.],\n",
            "        [ 6.,  1.,  8.],\n",
            "        [ 3., 56.,  2.]], dtype=torch.float64)\n"
          ]
        }
      ]
    },
    {
      "cell_type": "markdown",
      "metadata": {
        "id": "7ZvruvGoBSuV"
      },
      "source": [
        "in above example i have converted 3d numpy array into tensors"
      ]
    },
    {
      "cell_type": "code",
      "metadata": {
        "id": "GJoYxZ51BSuV",
        "colab": {
          "base_uri": "https://localhost:8080/"
        },
        "outputId": "9851eeca-ae14-48b1-d3f5-edb75f3cfc12"
      },
      "source": [
        "# Example 3 - breaking (to illustrate when it breaks)\n",
        "for i in range(10):\n",
        "  if i == 7:\n",
        "    break\n",
        "  print(i)"
      ],
      "execution_count": 15,
      "outputs": [
        {
          "output_type": "stream",
          "name": "stdout",
          "text": [
            "0\n",
            "1\n",
            "2\n",
            "3\n",
            "4\n",
            "5\n",
            "6\n"
          ]
        }
      ]
    },
    {
      "cell_type": "markdown",
      "metadata": {
        "id": "4b6UYdzwBSuX"
      },
      "source": [
        "## Function 3. calculate gradient\n",
        "\n",
        "Add some explanations"
      ]
    },
    {
      "cell_type": "markdown",
      "metadata": {
        "id": "HOCZsrcxBSuY"
      },
      "source": [
        "in this example i have initialize 3x3 randomly weights"
      ]
    },
    {
      "cell_type": "code",
      "metadata": {
        "id": "-NSIueVLBSuX",
        "colab": {
          "base_uri": "https://localhost:8080/"
        },
        "outputId": "4055daac-30a5-421f-84a4-95cbea786fa8"
      },
      "source": [
        "# Example 1 \n",
        "w = torch.randn(3,3)\n",
        "print(w)"
      ],
      "execution_count": 17,
      "outputs": [
        {
          "output_type": "stream",
          "name": "stdout",
          "text": [
            "tensor([[-1.9237, -1.1792, -1.6047],\n",
            "        [ 0.9605,  0.9766, -2.7487],\n",
            "        [ 0.6484, -1.0210, -0.4987]])\n"
          ]
        }
      ]
    },
    {
      "cell_type": "code",
      "metadata": {
        "id": "9Y8TAS7aBSuY",
        "colab": {
          "base_uri": "https://localhost:8080/"
        },
        "outputId": "c06f6f2d-c5c4-4e03-8d4a-f4735537f893"
      },
      "source": [
        "# Example 2\n",
        "w = torch.randn(2, 3, requires_grad= True)\n",
        "print(w)"
      ],
      "execution_count": 18,
      "outputs": [
        {
          "output_type": "stream",
          "name": "stdout",
          "text": [
            "tensor([[1.2248, 0.2497, 1.2214],\n",
            "        [1.3072, 0.7260, 0.1455]], requires_grad=True)\n"
          ]
        }
      ]
    },
    {
      "cell_type": "markdown",
      "metadata": {
        "id": "Q1zHqDN_BSuY"
      },
      "source": [
        "if we set requires_grad = True then it can compute gradient otherwise we can compute"
      ]
    },
    {
      "cell_type": "code",
      "metadata": {
        "id": "0D_ozXY4BSuZ",
        "colab": {
          "base_uri": "https://localhost:8080/"
        },
        "outputId": "94e1f855-8357-4df1-92ae-881f5430edf6"
      },
      "source": [
        "# Example 3 \n",
        "print(w.grad)"
      ],
      "execution_count": 19,
      "outputs": [
        {
          "output_type": "stream",
          "name": "stdout",
          "text": [
            "None\n"
          ]
        }
      ]
    }
  ]
}